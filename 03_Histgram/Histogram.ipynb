{
 "cells": [
  {
   "cell_type": "code",
   "execution_count": 1,
   "metadata": {},
   "outputs": [],
   "source": [
    "import numpy as np\n",
    "import matplotlib.pyplot as plt\n",
    "import seaborn as sb\n",
    "import pandas as pd"
   ]
  },
  {
   "cell_type": "code",
   "execution_count": 2,
   "metadata": {},
   "outputs": [
    {
     "name": "stdout",
     "output_type": "stream",
     "text": [
      "(500,) (500,)\n"
     ]
    }
   ],
   "source": [
    "d1 = np.loadtxt(\"example_1.txt\")\n",
    "d2 = np.loadtxt(\"example_2.txt\")\n",
    "print(d1.shape, d2.shape)"
   ]
  },
  {
   "cell_type": "code",
   "execution_count": 4,
   "metadata": {},
   "outputs": [
    {
     "data": {
      "text/plain": [
       "array([13.995, 13.125, 13.508, 14.22 , 13.478])"
      ]
     },
     "execution_count": 4,
     "metadata": {},
     "output_type": "execute_result"
    }
   ],
   "source": [
    "d1[: 5]"
   ]
  },
  {
   "cell_type": "code",
   "execution_count": 5,
   "metadata": {},
   "outputs": [
    {
     "data": {
      "text/plain": [
       "array([9.497, 9.054, 2.688, 8.209, 7.612])"
      ]
     },
     "execution_count": 5,
     "metadata": {},
     "output_type": "execute_result"
    }
   ],
   "source": [
    "d2[: 5]"
   ]
  },
  {
   "cell_type": "code",
   "execution_count": 7,
   "metadata": {},
   "outputs": [
    {
     "data": {
      "image/png": "[encoded data removed]",
      "text/plain": [
       "<Figure size 720x576 with 1 Axes>"
      ]
     },
     "metadata": {
      "needs_background": "light"
     },
     "output_type": "display_data"
    }
   ],
   "source": [
    "plt.figure(figsize = (10, 8))\n",
    "plt.hist(d1, label=\"D1\")\n",
    "plt.hist(d2, label=\"D2\")\n",
    "plt.legend()\n",
    "plt.ylabel(\"Counts\");"
   ]
  },
  {
   "cell_type": "code",
   "execution_count": 30,
   "metadata": {},
   "outputs": [
    {
     "data": {
      "image/png": "[encoded data removed]",
      "text/plain": [
       "<Figure size 864x576 with 1 Axes>"
      ]
     },
     "metadata": {
      "needs_background": "light"
     },
     "output_type": "display_data"
    }
   ],
   "source": [
    "plt.figure(figsize = (12, 8))\n",
    "bins = np.linspace(min(d1.min(), d2.min()), max(d1.max(), d2.max()), 50)\n",
    "counts1, _, _ = plt.hist(d1, bins=bins, label=\"D1\")\n",
    "plt.hist(d2, bins=bins, label=\"D2\")\n",
    "plt.legend()\n",
    "plt.ylabel(\"Counts\");\n",
    "plt.xticks(np.linspace(min(d1.min(), d2.min()), max(d1.max(), d2.max()), 20))\n",
    "plt.show()"
   ]
  },
  {
   "cell_type": "markdown",
   "metadata": {},
   "source": [
    "## Density\n",
    "\n",
    "* density = counts / (sum(counts) * np.diff(bins))\n",
    "* so that the area under the histogram integrates to 1\n",
    "* np.sum(density * np.diff(bins)) == 1"
   ]
  },
  {
   "cell_type": "code",
   "execution_count": 31,
   "metadata": {},
   "outputs": [
    {
     "data": {
      "text/plain": [
       "array([ 0.,  0.,  0.,  0.,  0.,  0.,  0.,  0.,  0.,  0.,  0.,  0.,  0.,\n",
       "        0.,  0.,  0.,  0.,  0.,  0.,  1.,  0.,  1.,  4., 18., 47., 62.,\n",
       "       82., 64., 71., 39., 41., 30., 16.,  9.,  8.,  4.,  2.,  0.,  0.,\n",
       "        0.,  1.,  0.,  0.,  0.,  0.,  0.,  0.,  0.,  0.])"
      ]
     },
     "execution_count": 31,
     "metadata": {},
     "output_type": "execute_result"
    }
   ],
   "source": [
    "counts1"
   ]
  },
  {
   "cell_type": "code",
   "execution_count": 32,
   "metadata": {},
   "outputs": [
    {
     "data": {
      "text/plain": [
       "array([ 0.568     ,  1.03206122,  1.49612245,  1.96018367,  2.4242449 ,\n",
       "        2.88830612,  3.35236735,  3.81642857,  4.2804898 ,  4.74455102,\n",
       "        5.20861224,  5.67267347,  6.13673469,  6.60079592,  7.06485714,\n",
       "        7.52891837,  7.99297959,  8.45704082,  8.92110204,  9.38516327,\n",
       "        9.84922449, 10.31328571, 10.77734694, 11.24140816, 11.70546939,\n",
       "       12.16953061, 12.63359184, 13.09765306, 13.56171429, 14.02577551,\n",
       "       14.48983673, 14.95389796, 15.41795918, 15.88202041, 16.34608163,\n",
       "       16.81014286, 17.27420408, 17.73826531, 18.20232653, 18.66638776,\n",
       "       19.13044898, 19.5945102 , 20.05857143, 20.52263265, 20.98669388,\n",
       "       21.4507551 , 21.91481633, 22.37887755, 22.84293878, 23.307     ])"
      ]
     },
     "execution_count": 32,
     "metadata": {},
     "output_type": "execute_result"
    }
   ],
   "source": [
    "bins"
   ]
  },
  {
   "cell_type": "code",
   "execution_count": 33,
   "metadata": {},
   "outputs": [
    {
     "data": {
      "text/plain": [
       "array([0.46406122, 0.46406122, 0.46406122, 0.46406122, 0.46406122,\n",
       "       0.46406122, 0.46406122, 0.46406122, 0.46406122, 0.46406122,\n",
       "       0.46406122, 0.46406122, 0.46406122, 0.46406122, 0.46406122,\n",
       "       0.46406122, 0.46406122, 0.46406122, 0.46406122, 0.46406122,\n",
       "       0.46406122, 0.46406122, 0.46406122, 0.46406122, 0.46406122,\n",
       "       0.46406122, 0.46406122, 0.46406122, 0.46406122, 0.46406122,\n",
       "       0.46406122, 0.46406122, 0.46406122, 0.46406122, 0.46406122,\n",
       "       0.46406122, 0.46406122, 0.46406122, 0.46406122, 0.46406122,\n",
       "       0.46406122, 0.46406122, 0.46406122, 0.46406122, 0.46406122,\n",
       "       0.46406122, 0.46406122, 0.46406122, 0.46406122])"
      ]
     },
     "execution_count": 33,
     "metadata": {},
     "output_type": "execute_result"
    }
   ],
   "source": [
    "np.diff(bins)"
   ]
  },
  {
   "cell_type": "code",
   "execution_count": 37,
   "metadata": {},
   "outputs": [
    {
     "data": {
      "text/plain": [
       "49"
      ]
     },
     "execution_count": 37,
     "metadata": {},
     "output_type": "execute_result"
    }
   ],
   "source": [
    "len(np.diff(bins))"
   ]
  },
  {
   "cell_type": "code",
   "execution_count": 38,
   "metadata": {},
   "outputs": [
    {
     "data": {
      "text/plain": [
       "49"
      ]
     },
     "execution_count": 38,
     "metadata": {},
     "output_type": "execute_result"
    }
   ],
   "source": [
    "len(counts1)"
   ]
  },
  {
   "cell_type": "code",
   "execution_count": 40,
   "metadata": {},
   "outputs": [
    {
     "data": {
      "text/plain": [
       "500.0"
      ]
     },
     "execution_count": 40,
     "metadata": {},
     "output_type": "execute_result"
    }
   ],
   "source": [
    "sum(counts1)"
   ]
  },
  {
   "cell_type": "code",
   "execution_count": 36,
   "metadata": {},
   "outputs": [
    {
     "name": "stdout",
     "output_type": "stream",
     "text": [
      "[0.         0.         0.         0.         0.         0.\n",
      " 0.         0.         0.         0.         0.         0.\n",
      " 0.         0.         0.         0.         0.         0.\n",
      " 0.         0.00430978 0.         0.00430978 0.0172391  0.07757597\n",
      " 0.20255948 0.26720612 0.35340164 0.27582567 0.30599411 0.16808127\n",
      " 0.17670082 0.12929328 0.06895642 0.03878799 0.03447821 0.0172391\n",
      " 0.00861955 0.         0.         0.         0.00430978 0.\n",
      " 0.         0.         0.         0.         0.         0.\n",
      " 0.        ]\n"
     ]
    }
   ],
   "source": [
    "density = counts1 / (sum(counts1) * np.diff(bins))\n",
    "print(density)"
   ]
  },
  {
   "cell_type": "code",
   "execution_count": 39,
   "metadata": {},
   "outputs": [
    {
     "data": {
      "text/plain": [
       "1.0"
      ]
     },
     "execution_count": 39,
     "metadata": {},
     "output_type": "execute_result"
    }
   ],
   "source": [
    "np.sum(density * np.diff(bins))"
   ]
  },
  {
   "cell_type": "code",
   "execution_count": 42,
   "metadata": {},
   "outputs": [
    {
     "data": {
      "text/plain": [
       "1.0"
      ]
     },
     "execution_count": 42,
     "metadata": {},
     "output_type": "execute_result"
    }
   ],
   "source": [
    "sum(counts1 / sum(counts1))"
   ]
  },
  {
   "cell_type": "code",
   "execution_count": 44,
   "metadata": {},
   "outputs": [
    {
     "data": {
      "text/plain": [
       "232.03061224489795"
      ]
     },
     "execution_count": 44,
     "metadata": {},
     "output_type": "execute_result"
    }
   ],
   "source": [
    "sum(counts1 * np.diff(bins))"
   ]
  },
  {
   "cell_type": "code",
   "execution_count": 27,
   "metadata": {},
   "outputs": [
    {
     "data": {
      "image/png": "[encoded data removed]",
      "text/plain": [
       "<Figure size 864x576 with 1 Axes>"
      ]
     },
     "metadata": {
      "needs_background": "light"
     },
     "output_type": "display_data"
    }
   ],
   "source": [
    "plt.figure(figsize = (12, 8))\n",
    "bins = np.linspace(min(d1.min(), d2.min()), max(d1.max(), d2.max()), 50)\n",
    "counts1, _, _ = plt.hist(d1, bins=bins, label=\"D1\", density=True)\n",
    "plt.hist(d2, bins=bins, label=\"D2\", density=True)\n",
    "plt.legend()\n",
    "plt.ylabel(\"Probability\");"
   ]
  },
  {
   "cell_type": "code",
   "execution_count": 18,
   "metadata": {},
   "outputs": [
    {
     "data": {
      "image/png": "[encoded data removed]",
      "text/plain": [
       "<Figure size 864x576 with 1 Axes>"
      ]
     },
     "metadata": {
      "needs_background": "light"
     },
     "output_type": "display_data"
    }
   ],
   "source": [
    "plt.figure(figsize = (12, 8))\n",
    "bins = np.linspace(min(d1.min(), d2.min()), max(d1.max(), d2.max()), 50)\n",
    "plt.hist([d1, d2], bins=bins, label=\"Stacked\", density=True, histtype=\"barstacked\", alpha=0.5)\n",
    "# plt.hist(d1, bins=bins, label=\"D1\", density=True, histtype=\"step\", lw=1)\n",
    "# plt.hist(d2, bins=bins, label=\"D2\", density=True, histtype=\"step\", ls=\":\")\n",
    "plt.legend()\n",
    "plt.ylabel(\"Probability\");"
   ]
  },
  {
   "cell_type": "code",
   "execution_count": 20,
   "metadata": {},
   "outputs": [
    {
     "data": {
      "text/plain": [
       "2.1548880777518797"
      ]
     },
     "execution_count": 20,
     "metadata": {},
     "output_type": "execute_result"
    }
   ],
   "source": [
    "sum(counts1)"
   ]
  },
  {
   "cell_type": "code",
   "execution_count": 19,
   "metadata": {},
   "outputs": [
    {
     "data": {
      "text/plain": [
       "array([0.46406122, 0.46406122, 0.46406122, 0.46406122, 0.46406122,\n",
       "       0.46406122, 0.46406122, 0.46406122, 0.46406122, 0.46406122,\n",
       "       0.46406122, 0.46406122, 0.46406122, 0.46406122, 0.46406122,\n",
       "       0.46406122, 0.46406122, 0.46406122, 0.46406122, 0.46406122,\n",
       "       0.46406122, 0.46406122, 0.46406122, 0.46406122, 0.46406122,\n",
       "       0.46406122, 0.46406122, 0.46406122, 0.46406122, 0.46406122,\n",
       "       0.46406122, 0.46406122, 0.46406122, 0.46406122, 0.46406122,\n",
       "       0.46406122, 0.46406122, 0.46406122, 0.46406122, 0.46406122,\n",
       "       0.46406122, 0.46406122, 0.46406122, 0.46406122, 0.46406122,\n",
       "       0.46406122, 0.46406122, 0.46406122, 0.46406122])"
      ]
     },
     "execution_count": 19,
     "metadata": {},
     "output_type": "execute_result"
    }
   ],
   "source": [
    "np.diff(bins)"
   ]
  },
  {
   "cell_type": "code",
   "execution_count": 21,
   "metadata": {},
   "outputs": [
    {
     "data": {
      "text/plain": [
       "array([1., 1., 1., 1., 1., 1., 1., 1., 1., 1., 1., 1., 1., 1., 1., 1., 1.,\n",
       "       1., 1., 1., 1., 1., 1., 1., 1., 1., 1., 1., 1., 1., 1., 1., 1., 1.,\n",
       "       1., 1., 1., 1., 1., 1., 1., 1., 1., 1., 1., 1., 1., 1., 1.])"
      ]
     },
     "execution_count": 21,
     "metadata": {},
     "output_type": "execute_result"
    }
   ],
   "source": [
    "sum(counts1) * np.diff(bins)"
   ]
  },
  {
   "cell_type": "code",
   "execution_count": 23,
   "metadata": {},
   "outputs": [
    {
     "data": {
      "text/plain": [
       "array([0.        , 0.        , 0.        , 0.        , 0.        ,\n",
       "       0.        , 0.        , 0.        , 0.        , 0.        ,\n",
       "       0.        , 0.        , 0.        , 0.        , 0.        ,\n",
       "       0.        , 0.        , 0.        , 0.        , 0.00430978,\n",
       "       0.        , 0.00430978, 0.0172391 , 0.07757597, 0.20255948,\n",
       "       0.26720612, 0.35340164, 0.27582567, 0.30599411, 0.16808127,\n",
       "       0.17670082, 0.12929328, 0.06895642, 0.03878799, 0.03447821,\n",
       "       0.0172391 , 0.00861955, 0.        , 0.        , 0.        ,\n",
       "       0.00430978, 0.        , 0.        , 0.        , 0.        ,\n",
       "       0.        , 0.        , 0.        , 0.        ])"
      ]
     },
     "execution_count": 23,
     "metadata": {},
     "output_type": "execute_result"
    }
   ],
   "source": [
    "counts1 / (sum(counts1) * np.diff(bins))"
   ]
  },
  {
   "cell_type": "code",
   "execution_count": null,
   "metadata": {},
   "outputs": [],
   "source": []
  }
 ],
 "metadata": {
  "kernelspec": {
   "display_name": "Python 3",
   "language": "python",
   "name": "python3"
  },
  "language_info": {
   "codemirror_mode": {
    "name": "ipython",
    "version": 3
   },
   "file_extension": ".py",
   "mimetype": "text/x-python",
   "name": "python",
   "nbconvert_exporter": "python",
   "pygments_lexer": "ipython3",
   "version": "3.8.6"
  }
 },
 "nbformat": 4,
 "nbformat_minor": 4
}
